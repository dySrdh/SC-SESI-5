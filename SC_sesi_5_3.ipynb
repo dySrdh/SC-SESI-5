{
  "nbformat": 4,
  "nbformat_minor": 0,
  "metadata": {
    "colab": {
      "provenance": [],
      "authorship_tag": "ABX9TyMC0qTf+pRXNZ3Q1SYXcuOR",
      "include_colab_link": true
    },
    "kernelspec": {
      "name": "python3",
      "display_name": "Python 3"
    },
    "language_info": {
      "name": "python"
    }
  },
  "cells": [
    {
      "cell_type": "markdown",
      "metadata": {
        "id": "view-in-github",
        "colab_type": "text"
      },
      "source": [
        "<a href=\"https://colab.research.google.com/github/dySrdh/SC-SESI-5/blob/main/SC_sesi_5_3.ipynb\" target=\"_parent\"><img src=\"https://colab.research.google.com/assets/colab-badge.svg\" alt=\"Open In Colab\"/></a>"
      ]
    },
    {
      "cell_type": "code",
      "execution_count": null,
      "metadata": {
        "colab": {
          "base_uri": "https://localhost:8080/"
        },
        "id": "2QN1qPTL0y_T",
        "outputId": "56e9bdb9-09a1-4577-c745-4addb9b15084"
      },
      "outputs": [
        {
          "output_type": "stream",
          "name": "stdout",
          "text": [
            "1.9835235375094546\n",
            "0.01647646249054535\n",
            "1.9835235375094546\n",
            "0.01647646249054535\n",
            "1.838806340029225\n",
            "0.16119365997077506\n"
          ]
        }
      ],
      "source": [
        "import numpy as np\n",
        "a = 0\n",
        "b = np.pi\n",
        "n = 11\n",
        "h = (b - a) / (n - 1)\n",
        "x= np.linspace (a, b, n)\n",
        "f = np.sin(x)\n",
        "\n",
        "I_riemannL = h * sum(f[:n-1])\n",
        "err_riemannL = 2 - I_riemannL\n",
        "\n",
        "I_riemannR= h * sum (f[1::])\n",
        "err_riemannR = 2 - I_riemannR\n",
        "\n",
        "I_mid = h * sum (np.sin((x[n-1] \\\n",
        "                         + x[1:])/2))\n",
        "err_mid = 2 - I_mid\n",
        "\n",
        "print (I_riemannL)\n",
        "print (err_riemannL)\n",
        "\n",
        "print (I_riemannR)\n",
        "print (err_riemannR)\n",
        "\n",
        "print (I_mid)\n",
        "print (err_mid)"
      ]
    }
  ]
}